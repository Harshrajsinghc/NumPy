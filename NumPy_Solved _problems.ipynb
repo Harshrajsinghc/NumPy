{
 "cells": [
  {
   "cell_type": "markdown",
   "id": "cf461b8e",
   "metadata": {},
   "source": [
    "Import NumPy"
   ]
  },
  {
   "cell_type": "code",
   "execution_count": 1,
   "id": "ea764a1f",
   "metadata": {},
   "outputs": [],
   "source": [
    "import numpy as np"
   ]
  },
  {
   "cell_type": "markdown",
   "id": "4bbebd5a",
   "metadata": {},
   "source": [
    "Print the numpy version"
   ]
  },
  {
   "cell_type": "code",
   "execution_count": 2,
   "id": "06be8843",
   "metadata": {},
   "outputs": [
    {
     "name": "stdout",
     "output_type": "stream",
     "text": [
      "1.23.5\n"
     ]
    }
   ],
   "source": [
    "print(np.__version__)"
   ]
  },
  {
   "cell_type": "markdown",
   "id": "a3c85e01",
   "metadata": {},
   "source": [
    "Create a null vector of size 10"
   ]
  },
  {
   "cell_type": "code",
   "execution_count": 5,
   "id": "49623f14",
   "metadata": {},
   "outputs": [
    {
     "name": "stdout",
     "output_type": "stream",
     "text": [
      "[0. 0. 0. 0. 0. 0. 0. 0. 0. 0.]\n"
     ]
    }
   ],
   "source": [
    "z=np.zeros(10)\n",
    "print(z)"
   ]
  },
  {
   "cell_type": "markdown",
   "id": "b2449d10",
   "metadata": {},
   "source": [
    "Create a null vector of size 10 but the fifth which is 1"
   ]
  },
  {
   "cell_type": "code",
   "execution_count": 6,
   "id": "ff4d036b",
   "metadata": {},
   "outputs": [
    {
     "name": "stdout",
     "output_type": "stream",
     "text": [
      "[0. 0. 0. 0. 1. 0. 0. 0. 0. 0.]\n"
     ]
    }
   ],
   "source": [
    "z=np.zeros(10)\n",
    "z[4]=1\n",
    "print(z)"
   ]
  },
  {
   "cell_type": "markdown",
   "id": "1f1cc4c8",
   "metadata": {},
   "source": [
    "Create a vector ranging from 10 to 49"
   ]
  },
  {
   "cell_type": "code",
   "execution_count": 9,
   "id": "cf5d72fc",
   "metadata": {},
   "outputs": [
    {
     "name": "stdout",
     "output_type": "stream",
     "text": [
      "[[10 11 12 13]\n",
      " [14 15 16 17]\n",
      " [18 19 20 21]\n",
      " [22 23 24 25]\n",
      " [26 27 28 29]\n",
      " [30 31 32 33]\n",
      " [34 35 36 37]\n",
      " [38 39 40 41]\n",
      " [42 43 44 45]\n",
      " [46 47 48 49]]\n"
     ]
    }
   ],
   "source": [
    "z=np.arange(10,50).reshape(10,4)\n",
    "print(z)"
   ]
  },
  {
   "cell_type": "markdown",
   "id": "78c19b1d",
   "metadata": {},
   "source": [
    "Reverse a vector"
   ]
  },
  {
   "cell_type": "code",
   "execution_count": 10,
   "id": "649b2e7a",
   "metadata": {},
   "outputs": [
    {
     "name": "stdout",
     "output_type": "stream",
     "text": [
      "[49 48 47 46 45 44 43 42 41 40 39 38 37 36 35 34 33 32 31 30 29 28 27 26\n",
      " 25 24 23 22 21 20 19 18 17 16 15 14 13 12 11 10  9  8  7  6  5  4  3  2\n",
      "  1  0]\n"
     ]
    }
   ],
   "source": [
    "z=np.arange(50)\n",
    "print(z[: :-1])"
   ]
  },
  {
   "cell_type": "markdown",
   "id": "ad64d5dd",
   "metadata": {},
   "source": [
    "Create a 3*3 matrix with value from 0 to 8"
   ]
  },
  {
   "cell_type": "code",
   "execution_count": 11,
   "id": "77276402",
   "metadata": {},
   "outputs": [
    {
     "data": {
      "text/plain": [
       "array([[0, 1, 2],\n",
       "       [3, 4, 5],\n",
       "       [6, 7, 8]])"
      ]
     },
     "execution_count": 11,
     "metadata": {},
     "output_type": "execute_result"
    }
   ],
   "source": [
    "z=np.arange(9).reshape(3,3)\n",
    "z"
   ]
  },
  {
   "cell_type": "markdown",
   "id": "d63c3967",
   "metadata": {},
   "source": [
    "Find index of non zero elements from [1,2,0,0,4,0]"
   ]
  },
  {
   "cell_type": "code",
   "execution_count": 12,
   "id": "0fb74c20",
   "metadata": {},
   "outputs": [
    {
     "name": "stdout",
     "output_type": "stream",
     "text": [
      "(array([0, 1, 4], dtype=int64),)\n"
     ]
    }
   ],
   "source": [
    "nz=np.nonzero([1,2,0,0,4,0])\n",
    "print(nz)"
   ]
  },
  {
   "cell_type": "markdown",
   "id": "1c33726e",
   "metadata": {},
   "source": [
    "Create a 3*3 identity matrix"
   ]
  },
  {
   "cell_type": "code",
   "execution_count": 13,
   "id": "4310cf1b",
   "metadata": {},
   "outputs": [
    {
     "name": "stdout",
     "output_type": "stream",
     "text": [
      "[[1. 0. 0.]\n",
      " [0. 1. 0.]\n",
      " [0. 0. 1.]]\n"
     ]
    }
   ],
   "source": [
    "nz=np.eye(3)\n",
    "print(nz)"
   ]
  },
  {
   "cell_type": "markdown",
   "id": "e1d1bbdf",
   "metadata": {},
   "source": [
    "Create a 3*3 array with random values"
   ]
  },
  {
   "cell_type": "code",
   "execution_count": 16,
   "id": "0bae6d14",
   "metadata": {},
   "outputs": [
    {
     "name": "stdout",
     "output_type": "stream",
     "text": [
      "[[68 79 87]\n",
      " [22 36 56]\n",
      " [13 43 37]]\n"
     ]
    }
   ],
   "source": [
    "r=np.random.randint(0,100,9).reshape(3,3)\n",
    "print(r)"
   ]
  },
  {
   "cell_type": "markdown",
   "id": "9a868973",
   "metadata": {},
   "source": [
    "Create a 10*10 array with random values and find min and max"
   ]
  },
  {
   "cell_type": "code",
   "execution_count": 23,
   "id": "54b8da6a",
   "metadata": {},
   "outputs": [
    {
     "name": "stdout",
     "output_type": "stream",
     "text": [
      "[[867 206 701 998 118 400  73   8 740 743]\n",
      " [958 411 624 670 720 519 204 911 113 437]\n",
      " [999  80  27  44 205 715  65 431 542 980]\n",
      " [ 86 637 146 254 377 649 362  41 446 897]\n",
      " [210 103 144 974   5 826 768 976 900 110]\n",
      " [676 873 691 539 799 770 324 294 105 979]\n",
      " [147 274 881 245 135 868 364 621 670 190]\n",
      " [779 491 835 380 449 183 387 603  78 923]\n",
      " [925 801 729 853 391 528  94  14 986 799]\n",
      " [265 550 815 144 389 418 685 699 408 397]]\n",
      "999\n",
      "5\n"
     ]
    }
   ],
   "source": [
    "np.random.seed(5)\n",
    "\n",
    "r=np.random.randint(0,1000,100).reshape(10,10)\n",
    "print(r)\n",
    "print(r.max())\n",
    "print(r.min())"
   ]
  },
  {
   "cell_type": "markdown",
   "id": "cfeb58fe",
   "metadata": {},
   "source": [
    "Create a random vector of size 30 and find mean"
   ]
  },
  {
   "cell_type": "code",
   "execution_count": 24,
   "id": "82a271dd",
   "metadata": {},
   "outputs": [
    {
     "name": "stdout",
     "output_type": "stream",
     "text": [
      "[[31 32 76]\n",
      " [44  5 14]\n",
      " [47 94 82]\n",
      " [ 0  7 86]\n",
      " [16 64  8]\n",
      " [90 44 37]\n",
      " [94 75  5]\n",
      " [22 52 69]\n",
      " [82 60 91]\n",
      " [29 88 97]]\n",
      "51.36666666666667\n"
     ]
    }
   ],
   "source": [
    "r=np.random.randint(0,100,30).reshape(10,3)\n",
    "print(r)\n",
    "print(r.mean())"
   ]
  },
  {
   "cell_type": "markdown",
   "id": "0dd3c09b",
   "metadata": {},
   "source": [
    "Create a 2d array with 1 on the border and 0 inside"
   ]
  },
  {
   "cell_type": "code",
   "execution_count": 25,
   "id": "f16566a6",
   "metadata": {},
   "outputs": [
    {
     "name": "stdout",
     "output_type": "stream",
     "text": [
      "[[1. 1. 1. 1. 1. 1. 1. 1. 1. 1.]\n",
      " [1. 0. 0. 0. 0. 0. 0. 0. 0. 1.]\n",
      " [1. 0. 0. 0. 0. 0. 0. 0. 0. 1.]\n",
      " [1. 0. 0. 0. 0. 0. 0. 0. 0. 1.]\n",
      " [1. 0. 0. 0. 0. 0. 0. 0. 0. 1.]\n",
      " [1. 0. 0. 0. 0. 0. 0. 0. 0. 1.]\n",
      " [1. 0. 0. 0. 0. 0. 0. 0. 0. 1.]\n",
      " [1. 0. 0. 0. 0. 0. 0. 0. 0. 1.]\n",
      " [1. 0. 0. 0. 0. 0. 0. 0. 0. 1.]\n",
      " [1. 1. 1. 1. 1. 1. 1. 1. 1. 1.]]\n"
     ]
    }
   ],
   "source": [
    "z=np.ones((10,10))\n",
    "z[1:-1,1:-1]=0\n",
    "print(z)"
   ]
  },
  {
   "cell_type": "markdown",
   "id": "a103ba66",
   "metadata": {},
   "source": [
    "Create a 5*5 matrix with values 1,2,3,4 just below the diagonal"
   ]
  },
  {
   "cell_type": "code",
   "execution_count": 38,
   "id": "6b8e0c00",
   "metadata": {},
   "outputs": [
    {
     "name": "stdout",
     "output_type": "stream",
     "text": [
      "[[0 0 0 0 0]\n",
      " [1 0 0 0 0]\n",
      " [0 2 0 0 0]\n",
      " [0 0 3 0 0]\n",
      " [0 0 0 4 0]]\n"
     ]
    }
   ],
   "source": [
    "z=np.diag(1+np.arange(4),k=-1)\n",
    "print(z)\n"
   ]
  },
  {
   "cell_type": "markdown",
   "id": "16eef21f",
   "metadata": {},
   "source": [
    "Create 8*8 matrix and fill it with a checkerboard pattern"
   ]
  },
  {
   "cell_type": "code",
   "execution_count": 41,
   "id": "123da163",
   "metadata": {},
   "outputs": [
    {
     "name": "stdout",
     "output_type": "stream",
     "text": [
      "[[0 1 0 1 0 1 0 1]\n",
      " [1 0 1 0 1 0 1 0]\n",
      " [0 1 0 1 0 1 0 1]\n",
      " [1 0 1 0 1 0 1 0]\n",
      " [0 1 0 1 0 1 0 1]\n",
      " [1 0 1 0 1 0 1 0]\n",
      " [0 1 0 1 0 1 0 1]\n",
      " [1 0 1 0 1 0 1 0]]\n"
     ]
    }
   ],
   "source": [
    "z=np.zeros((8,8),dtype=int)\n",
    "z[1::2,::2]=1\n",
    "z[::2,1::2]=1\n",
    "print(z)"
   ]
  },
  {
   "cell_type": "markdown",
   "id": "9384f566",
   "metadata": {},
   "source": [
    "Consider a (6,7,8) shape array, what is the index (x,y,z) of the 100th element?"
   ]
  },
  {
   "cell_type": "code",
   "execution_count": 44,
   "id": "d685a418",
   "metadata": {},
   "outputs": [
    {
     "name": "stdout",
     "output_type": "stream",
     "text": [
      "(1, 5, 4)\n"
     ]
    }
   ],
   "source": [
    "print(np.unravel_index(100,(6,7,8)))"
   ]
  },
  {
   "cell_type": "markdown",
   "id": "73020c96",
   "metadata": {},
   "source": [
    "Create a checkerboard 8*8 matrix using the tile function"
   ]
  },
  {
   "cell_type": "code",
   "execution_count": 50,
   "id": "04d3f2cc",
   "metadata": {},
   "outputs": [
    {
     "name": "stdout",
     "output_type": "stream",
     "text": [
      "[[0 1 0 1 0 1 0 1]\n",
      " [1 0 1 0 1 0 1 0]\n",
      " [0 1 0 1 0 1 0 1]\n",
      " [1 0 1 0 1 0 1 0]\n",
      " [0 1 0 1 0 1 0 1]\n",
      " [1 0 1 0 1 0 1 0]\n",
      " [0 1 0 1 0 1 0 1]\n",
      " [1 0 1 0 1 0 1 0]]\n"
     ]
    }
   ],
   "source": [
    "z=np.tile(np.array([[0,1],[1,0]]),(4,4))\n",
    "print(z)"
   ]
  },
  {
   "cell_type": "markdown",
   "id": "2ef8e859",
   "metadata": {},
   "source": [
    "Normalize a 5*5 random matrix"
   ]
  },
  {
   "cell_type": "code",
   "execution_count": 52,
   "id": "fe463466",
   "metadata": {},
   "outputs": [
    {
     "name": "stdout",
     "output_type": "stream",
     "text": [
      "[[0.44660783 0.80047642 0.02039138 0.57261865 0.41138362]\n",
      " [0.9851368  0.80140153 0.0539621  0.19047777 0.45241885]\n",
      " [0.70294208 0.33204815 0.3599832  0.92147057 0.95363051]\n",
      " [0.40768573 0.89857115 0.33025325 0.08273857 0.52671757]\n",
      " [0.66084439 0.89298429 0.96515755 0.76993268 0.75909912]]\n",
      "0.9851367976958045\n",
      "0.020391378448150643\n",
      "[[-0.44179163 -0.8085916  -0.         -0.57240725 -0.40528022]\n",
      " [-1.         -0.80955052 -0.03479749 -0.17630184 -0.447815  ]\n",
      " [-0.70749307 -0.32304561 -0.35200148 -0.93400722 -0.96734238]\n",
      " [-0.4014472  -0.910271   -0.32118512 -0.06462554 -0.52482881]\n",
      " [-0.66385701 -0.90447998 -0.97929065 -0.7769317  -0.76570225]]\n"
     ]
    }
   ],
   "source": [
    "z=np.random.random((5,5))\n",
    "print(z)\n",
    "r=z.max()\n",
    "print(r)\n",
    "s=z.min()\n",
    "print(s)\n",
    "z=(z-s)/(s-r)\n",
    "print(z)"
   ]
  },
  {
   "cell_type": "markdown",
   "id": "9c1a6b0e",
   "metadata": {},
   "source": [
    "Create a custom dtype that describe a color as four unsigned bytes (RGBA)"
   ]
  },
  {
   "cell_type": "code",
   "execution_count": 53,
   "id": "d5bab00e",
   "metadata": {},
   "outputs": [
    {
     "name": "stderr",
     "output_type": "stream",
     "text": [
      "C:\\Users\\asus\\AppData\\Local\\Temp\\ipykernel_11956\\3952796063.py:1: FutureWarning: Passing (type, 1) or '1type' as a synonym of type is deprecated; in a future version of numpy, it will be understood as (type, (1,)) / '(1,)type'.\n",
      "  color=np.dtype([(\"r\",np.ubyte,1),(\"g\",np.ubyte,1),(\"b\",np.ubyte,1),(\"a\",np.ubyte,1)])\n"
     ]
    },
    {
     "data": {
      "text/plain": [
       "dtype([('r', 'u1'), ('g', 'u1'), ('b', 'u1'), ('a', 'u1')])"
      ]
     },
     "execution_count": 53,
     "metadata": {},
     "output_type": "execute_result"
    }
   ],
   "source": [
    "color=np.dtype([(\"r\",np.ubyte,1),(\"g\",np.ubyte,1),(\"b\",np.ubyte,1),(\"a\",np.ubyte,1)])\n",
    "color"
   ]
  },
  {
   "cell_type": "markdown",
   "id": "f44b2cc2",
   "metadata": {},
   "source": [
    "Multiply a 5 * 3 matrix by a 3 * 2 matrix"
   ]
  },
  {
   "cell_type": "code",
   "execution_count": 55,
   "id": "d8022cd4",
   "metadata": {},
   "outputs": [
    {
     "name": "stdout",
     "output_type": "stream",
     "text": [
      "[[3. 3.]\n",
      " [3. 3.]\n",
      " [3. 3.]\n",
      " [3. 3.]\n",
      " [3. 3.]]\n"
     ]
    }
   ],
   "source": [
    "z1=np.dot(np.ones((5,3)),np.ones((3,2)))\n",
    "print(z1)"
   ]
  },
  {
   "cell_type": "markdown",
   "id": "98954016",
   "metadata": {},
   "source": [
    "How to round away from zero a float array"
   ]
  },
  {
   "cell_type": "code",
   "execution_count": 59,
   "id": "1cbfba2b",
   "metadata": {},
   "outputs": [
    {
     "name": "stdout",
     "output_type": "stream",
     "text": [
      "[ 3.18834561  9.73002883 -7.85020933  1.61837055 -0.5434369   3.04541572\n",
      " -5.16281892 -9.37739873  0.88464705 -2.70579642]\n",
      "[ 3. 10. -8.  2. -1.  3. -5. -9.  1. -3.]\n"
     ]
    }
   ],
   "source": [
    "z=np.random.uniform(-10,+10,10)\n",
    "print(z)\n",
    "print(np.trunc(z+np.copysign(0.5,z)))"
   ]
  },
  {
   "cell_type": "markdown",
   "id": "6a1d8a73",
   "metadata": {},
   "source": [
    "Extract the integer part of a random array using 5 different methods."
   ]
  },
  {
   "cell_type": "code",
   "execution_count": 60,
   "id": "1db0a178",
   "metadata": {},
   "outputs": [
    {
     "name": "stdout",
     "output_type": "stream",
     "text": [
      "[8.92333275 4.59345595 4.186541   6.32905541 5.27178833 9.6121114\n",
      " 7.89010115 4.96695509 2.11141001 6.03984141]\n",
      "[8. 4. 4. 6. 5. 9. 7. 4. 2. 6.]\n",
      "[8. 4. 4. 6. 5. 9. 7. 4. 2. 6.]\n",
      "[8. 4. 4. 6. 5. 9. 7. 4. 2. 6.]\n",
      "[8 4 4 6 5 9 7 4 2 6]\n",
      "[8. 4. 4. 6. 5. 9. 7. 4. 2. 6.]\n"
     ]
    }
   ],
   "source": [
    "z=np.random.uniform(0,10,10)\n",
    "print(z)\n",
    "print(z-z%1)\n",
    "print(np.floor(z))\n",
    "print(np.ceil(z)-1)\n",
    "print(z.astype(int))\n",
    "print(np.trunc(z))"
   ]
  },
  {
   "cell_type": "markdown",
   "id": "5bc916a4",
   "metadata": {},
   "source": [
    "Create a 5 * 5 matrix with row values ranging from 0 to 4"
   ]
  },
  {
   "cell_type": "code",
   "execution_count": 61,
   "id": "9d11d071",
   "metadata": {},
   "outputs": [
    {
     "name": "stdout",
     "output_type": "stream",
     "text": [
      "[[0. 1. 2. 3. 4.]\n",
      " [0. 1. 2. 3. 4.]\n",
      " [0. 1. 2. 3. 4.]\n",
      " [0. 1. 2. 3. 4.]\n",
      " [0. 1. 2. 3. 4.]]\n"
     ]
    }
   ],
   "source": [
    "z=np.zeros((5,5))\n",
    "z+=np.arange(5)\n",
    "print(z)"
   ]
  },
  {
   "cell_type": "markdown",
   "id": "ce36c4b8",
   "metadata": {},
   "source": [
    "Cosider a generator function that generate 10 integers and use it to build an array"
   ]
  },
  {
   "cell_type": "code",
   "execution_count": 64,
   "id": "2442afd5",
   "metadata": {},
   "outputs": [
    {
     "name": "stdout",
     "output_type": "stream",
     "text": [
      "[0. 1. 2. 3. 4. 5. 6. 7. 8. 9.]\n"
     ]
    }
   ],
   "source": [
    "def generate():\n",
    "    for x in range(10):\n",
    "        yield x\n",
    "\n",
    "z=np.fromiter(generate(),dtype=float,count=-1)\n",
    "print(z)"
   ]
  },
  {
   "cell_type": "markdown",
   "id": "afb46ece",
   "metadata": {},
   "source": [
    "Create a random vector of size 10 and sort it."
   ]
  },
  {
   "cell_type": "code",
   "execution_count": 70,
   "id": "2d3f7f7d",
   "metadata": {},
   "outputs": [
    {
     "name": "stdout",
     "output_type": "stream",
     "text": [
      "[62 85 53 75 26 10 32 40 60 23]\n",
      "[10 23 26 32 40 53 60 62 75 85]\n"
     ]
    }
   ],
   "source": [
    "z=np.random.randint(1,100,10)\n",
    "print(z)\n",
    "z.sort()\n",
    "print(z)"
   ]
  },
  {
   "cell_type": "markdown",
   "id": "60c7cb66",
   "metadata": {},
   "source": [
    "How to sum a small array faster than np.sum"
   ]
  },
  {
   "cell_type": "code",
   "execution_count": 74,
   "id": "f99ec773",
   "metadata": {},
   "outputs": [
    {
     "name": "stdout",
     "output_type": "stream",
     "text": [
      "[ 1 11 21 31 41 51 61 71 81 91]\n",
      "460\n"
     ]
    }
   ],
   "source": [
    "z=np.arange(1,100,10)\n",
    "print(z)\n",
    "a=np.add.reduce(z)\n",
    "print(a)"
   ]
  },
  {
   "cell_type": "markdown",
   "id": "962a83d7",
   "metadata": {},
   "source": [
    "Cosider two random array A and B, check if they are equal"
   ]
  },
  {
   "cell_type": "code",
   "execution_count": 78,
   "id": "56486ef8",
   "metadata": {},
   "outputs": [
    {
     "name": "stdout",
     "output_type": "stream",
     "text": [
      "[1 2 2 1 4] \n",
      " [3 3 3 3 4]\n",
      "False\n"
     ]
    }
   ],
   "source": [
    "z1=np.random.randint(1,5,5)\n",
    "z2=np.random.randint(1,5,5)\n",
    "print(z1,\"\\n\",z2)\n",
    "equal=np.allclose(z1,z2)\n",
    "print(equal)"
   ]
  },
  {
   "cell_type": "markdown",
   "id": "9a7bfc86",
   "metadata": {},
   "source": [
    "Make an array immutable"
   ]
  },
  {
   "cell_type": "code",
   "execution_count": 81,
   "id": "0739791f",
   "metadata": {},
   "outputs": [
    {
     "ename": "ValueError",
     "evalue": "assignment destination is read-only",
     "output_type": "error",
     "traceback": [
      "\u001b[1;31m---------------------------------------------------------------------------\u001b[0m",
      "\u001b[1;31mValueError\u001b[0m                                Traceback (most recent call last)",
      "Cell \u001b[1;32mIn [81], line 3\u001b[0m\n\u001b[0;32m      1\u001b[0m z\u001b[38;5;241m=\u001b[39mnp\u001b[38;5;241m.\u001b[39mzeros(\u001b[38;5;241m10\u001b[39m)\n\u001b[0;32m      2\u001b[0m z\u001b[38;5;241m.\u001b[39mflags\u001b[38;5;241m.\u001b[39mwriteable\u001b[38;5;241m=\u001b[39m\u001b[38;5;28;01mFalse\u001b[39;00m\n\u001b[1;32m----> 3\u001b[0m \u001b[43mz\u001b[49m\u001b[43m[\u001b[49m\u001b[38;5;241;43m0\u001b[39;49m\u001b[43m]\u001b[49m\u001b[38;5;241m=\u001b[39m\u001b[38;5;241m1\u001b[39m\n",
      "\u001b[1;31mValueError\u001b[0m: assignment destination is read-only"
     ]
    }
   ],
   "source": [
    "z=np.zeros(10)\n",
    "z.flags.writeable=False\n",
    "z[0]=1"
   ]
  },
  {
   "cell_type": "markdown",
   "id": "42202dcb",
   "metadata": {},
   "source": [
    "Consider a random 10 * 2 matrix representing cartesian coordinates, convert them to polar coordinates"
   ]
  },
  {
   "cell_type": "code",
   "execution_count": 86,
   "id": "be7ea267",
   "metadata": {},
   "outputs": [
    {
     "name": "stdout",
     "output_type": "stream",
     "text": [
      "[[74 70]\n",
      " [78 34]\n",
      " [65  4]\n",
      " [95 46]\n",
      " [71 59]\n",
      " [53 68]\n",
      " [12 66]\n",
      " [22  9]\n",
      " [32 48]\n",
      " [78 79]]\n",
      "[74 78 65 95 71 53 12 22 32 78]\n",
      "[70 34  4 46 59 68 66  9 48 79]\n",
      "[101.86265263  85.08818954  65.12296062 105.55093557  92.31467922\n",
      "  86.21484791  67.08203932  23.76972865  57.68882041 111.01801656]\n",
      "[0.75762753 0.41106455 0.06146096 0.45093643 0.69335131 0.90873586\n",
      " 1.39094283 0.38831872 0.98279372 0.7917675 ]\n"
     ]
    }
   ],
   "source": [
    "z=np.random.randint(1,100,20).reshape(10,2)\n",
    "print(z)\n",
    "x,y=z[:,0],z[:,1]\n",
    "print(x)\n",
    "print(y)\n",
    "r=np.sqrt(x**2+y**2)\n",
    "t=np.arctan2(y,x)\n",
    "print(r)\n",
    "print(t)"
   ]
  },
  {
   "cell_type": "markdown",
   "id": "0e2aabec",
   "metadata": {},
   "source": [
    "Create random vector of size 10 and replace the maximum value by 0"
   ]
  },
  {
   "cell_type": "code",
   "execution_count": 90,
   "id": "a1d884b2",
   "metadata": {},
   "outputs": [
    {
     "name": "stdout",
     "output_type": "stream",
     "text": [
      "[50 70 42 77 80 39 80 82 39 44]\n",
      "[50 70 42 77 80 39 80  0 39 44]\n"
     ]
    }
   ],
   "source": [
    "z=np.random.randint(1,100,10)\n",
    "print(z)\n",
    "z[z.argmax()]=0\n",
    "print(z)"
   ]
  },
  {
   "cell_type": "markdown",
   "id": "5e726b9e",
   "metadata": {},
   "source": [
    "Given two arrays, x and y, construct the cauchy matrix C(Cij = 1/(xi-yj))"
   ]
  },
  {
   "cell_type": "code",
   "execution_count": 91,
   "id": "a254108d",
   "metadata": {},
   "outputs": [
    {
     "name": "stdout",
     "output_type": "stream",
     "text": [
      "[0 1 2 3 4 5 6 7] \n",
      " [0.5 1.5 2.5 3.5 4.5 5.5 6.5 7.5]\n",
      "[[-2.         -0.66666667 -0.4        -0.28571429 -0.22222222 -0.18181818\n",
      "  -0.15384615 -0.13333333]\n",
      " [ 2.         -2.         -0.66666667 -0.4        -0.28571429 -0.22222222\n",
      "  -0.18181818 -0.15384615]\n",
      " [ 0.66666667  2.         -2.         -0.66666667 -0.4        -0.28571429\n",
      "  -0.22222222 -0.18181818]\n",
      " [ 0.4         0.66666667  2.         -2.         -0.66666667 -0.4\n",
      "  -0.28571429 -0.22222222]\n",
      " [ 0.28571429  0.4         0.66666667  2.         -2.         -0.66666667\n",
      "  -0.4        -0.28571429]\n",
      " [ 0.22222222  0.28571429  0.4         0.66666667  2.         -2.\n",
      "  -0.66666667 -0.4       ]\n",
      " [ 0.18181818  0.22222222  0.28571429  0.4         0.66666667  2.\n",
      "  -2.         -0.66666667]\n",
      " [ 0.15384615  0.18181818  0.22222222  0.28571429  0.4         0.66666667\n",
      "   2.         -2.        ]]\n",
      "3638.1636371179666\n"
     ]
    }
   ],
   "source": [
    "x=np.arange(8)\n",
    "y=x+0.5\n",
    "print(x,\"\\n\",y)\n",
    "c=1.0 / np.subtract.outer(x,y)\n",
    "print(c)\n",
    "print(np.linalg.det(c))"
   ]
  },
  {
   "cell_type": "markdown",
   "id": "7beac05c",
   "metadata": {},
   "source": [
    "How to convert a float(32 bits) array into an integer(32 bits) in place?\n"
   ]
  },
  {
   "cell_type": "code",
   "execution_count": 95,
   "id": "1e0ce614",
   "metadata": {},
   "outputs": [
    {
     "name": "stdout",
     "output_type": "stream",
     "text": [
      "[0 1 2 3 4 5 6 7 8 9]\n",
      "[0. 1. 2. 3. 4. 5. 6. 7. 8. 9.]\n"
     ]
    }
   ],
   "source": [
    "z=np.arange(10,dtype=np.int32)\n",
    "print(z)\n",
    "z=z.astype(np.float32,copy=False)\n",
    "print(z)"
   ]
  },
  {
   "cell_type": "code",
   "execution_count": null,
   "id": "b953c998",
   "metadata": {},
   "outputs": [],
   "source": []
  }
 ],
 "metadata": {
  "kernelspec": {
   "display_name": "Python 3 (ipykernel)",
   "language": "python",
   "name": "python3"
  },
  "language_info": {
   "codemirror_mode": {
    "name": "ipython",
    "version": 3
   },
   "file_extension": ".py",
   "mimetype": "text/x-python",
   "name": "python",
   "nbconvert_exporter": "python",
   "pygments_lexer": "ipython3",
   "version": "3.9.6"
  }
 },
 "nbformat": 4,
 "nbformat_minor": 5
}
